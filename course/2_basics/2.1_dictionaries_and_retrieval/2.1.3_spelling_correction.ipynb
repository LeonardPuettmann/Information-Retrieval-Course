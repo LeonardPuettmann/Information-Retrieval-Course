{
 "cells": [
  {
   "cell_type": "markdown",
   "id": "d97a4568",
   "metadata": {},
   "source": [
    "## Edit distance for spelling correction"
   ]
  },
  {
   "cell_type": "code",
   "execution_count": null,
   "id": "36485174",
   "metadata": {},
   "outputs": [],
   "source": []
  },
  {
   "cell_type": "markdown",
   "id": "6e1399a4",
   "metadata": {},
   "source": [
    "## k-gram spelling correction"
   ]
  },
  {
   "cell_type": "code",
   "execution_count": null,
   "id": "db4ab364",
   "metadata": {},
   "outputs": [],
   "source": []
  },
  {
   "cell_type": "markdown",
   "id": "d5a60c38",
   "metadata": {},
   "source": [
    "## Context sensitive correction"
   ]
  },
  {
   "cell_type": "code",
   "execution_count": null,
   "id": "3b92430d",
   "metadata": {},
   "outputs": [],
   "source": []
  }
 ],
 "metadata": {
  "language_info": {
   "name": "python"
  }
 },
 "nbformat": 4,
 "nbformat_minor": 5
}
