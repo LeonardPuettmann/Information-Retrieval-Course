{
 "cells": [
  {
   "cell_type": "code",
   "execution_count": 9,
   "id": "1c08c27c",
   "metadata": {},
   "outputs": [
    {
     "data": {
      "text/plain": [
       "True"
      ]
     },
     "execution_count": 9,
     "metadata": {},
     "output_type": "execute_result"
    }
   ],
   "source": [
    "import os\n",
    "from elasticsearch import Elasticsearch\n",
    "from pathlib import Path\n",
    "from tqdm.auto import tqdm\n",
    "from dotenv import load_dotenv\n",
    "from mistralai import Mistral\n",
    "\n",
    "load_dotenv()"
   ]
  },
  {
   "cell_type": "code",
   "execution_count": 10,
   "id": "bdf4781e",
   "metadata": {},
   "outputs": [
    {
     "name": "stdout",
     "output_type": "stream",
     "text": [
      "Three Rings for the Elven-kings under the sky,\n",
      "               Seven for the Dwarf-lords in their halls of stone,\n",
      "            Nine for Mortal Men doomed to die,\n",
      "              One for the Dark Lord on his dark throne\n",
      "           In the Land of Mordor where the Shadows lie.\n",
      "               One Ring to rule them all, One Ring to find them,\n",
      "               One Ring to bring them all and in the darkness bind them\n",
      "           In the Land of Mordor where the Shadows lie.\n",
      "    \n"
     ]
    }
   ],
   "source": [
    "# Step 1: Load the lotr.txt file\n",
    "file_path = Path(\"../../lotr.txt\")\n",
    "with open(file_path, \"r\") as file:\n",
    "    text = file.read()\n",
    "    \n",
    "print(text[:468])\n",
    "\n",
    "chapters = text.split(\"\\n\\n\")"
   ]
  },
  {
   "cell_type": "code",
   "execution_count": 11,
   "id": "31ed45a4",
   "metadata": {},
   "outputs": [],
   "source": [
    "# Step 2: Create an elasticsearch client (local)\n",
    "# client = Elasticsearch([{'host': 'localhost', 'port': 9200, 'scheme': 'http'}])\n",
    "\n",
    "# index_name = \"lotr_index\"\n",
    "\n",
    "# if not client.indices.exists(index=index_name):\n",
    "#     client.indices.create(index=index_name)\n",
    "\n",
    "# for i, chapter in tqdm(enumerate(chapters)):\n",
    "#     doc = {\n",
    "#         \"chapter_number\": i + 1,\n",
    "#         \"content\": chapter\n",
    "#     }\n",
    "#     client.index(index=index_name, id=i + 1, document=doc)"
   ]
  },
  {
   "cell_type": "code",
   "execution_count": 12,
   "id": "5a9e1a06",
   "metadata": {},
   "outputs": [],
   "source": [
    "# Step 2: Create an elasticsearch client (managed)\n",
    "client = Elasticsearch(\n",
    "    \"https://420a234f58fe4d28bdededc52bf27dbc.westeurope.azure.elastic-cloud.com:443\",\n",
    "    api_key=os.getenv(\"ELASTICSEARCH_API_KEY\")\n",
    ")"
   ]
  },
  {
   "cell_type": "code",
   "execution_count": 13,
   "id": "999738c1",
   "metadata": {},
   "outputs": [],
   "source": [
    "# Create an index with the specified mappings\n",
    "index_name = \"lotr_index\"\n",
    "if not client.indices.exists(index=index_name):\n",
    "    client.indices.create(\n",
    "        index=index_name,\n",
    "        mappings={\n",
    "            \"properties\": {\n",
    "                \"text\": {\"type\": \"text\"}\n",
    "            }\n",
    "        }\n",
    "    )\n",
    "\n",
    "# Index each chapter\n",
    "for i, chapter in enumerate(chapters):\n",
    "    doc = {\n",
    "        \"text\": chapter\n",
    "    }\n",
    "    client.index(index=index_name, id=i + 1, document=doc)"
   ]
  },
  {
   "cell_type": "code",
   "execution_count": 14,
   "id": "bfc601d3",
   "metadata": {},
   "outputs": [
    {
     "name": "stdout",
     "output_type": "stream",
     "text": [
      "Chapter 766:      He was naked, lying as if in a swoon on a heap of filthy rags: his arm was flung up, shielding ...\n",
      "Chapter 37:      Frodo took it from his breeches-pocket, where it was clasped to a chain that hung from his belt...\n",
      "Chapter 344:      Aragorn sprang swiftly away and went in pursuit of Sam. Just as he reached the little lawn amon...\n",
      "Chapter 56:      The song ended. 'And _now_ to bed! And _now_ to bed!' sang Pippin in a high voice.\n",
      "     'Hush!'...\n",
      "Chapter 73: \n",
      "     There was a terrific splash, and a shout of _Whoa!_ from Frodo. It appeared that a lot of Pipp...\n",
      "Chapter 770:      Sam had just wits enough left to thrust the phial back into his breast. 'Run, Mr. Frodo!' he cr...\n",
      "Chapter 589:      Faramir sat for a moment in thought. `Very good,' he said at last. `I surrender you to your mas...\n",
      "Chapter 767:      Frodo sat for a while and shivered, dreadful fears chasing one another through his mind. Then h...\n",
      "Chapter 34:      It was just at this time that Gandalf reappeared after his long absence. For three years after ...\n",
      "Chapter 588:      They peered down at the dark pool. A little black head appeared at the far end of the basin, ju...\n"
     ]
    }
   ],
   "source": [
    "def keyword_search(query, index_name=\"lotr_index\"):\n",
    "    res = client.search(index=index_name, query={\"match\": {\"text\": query}})\n",
    "    return res['hits']['hits']\n",
    "\n",
    "# Example usage\n",
    "results = keyword_search(\"Frodo\")\n",
    "for hit in results:\n",
    "    print(f\"Chapter {hit['_id']}: {hit['_source']['text'][:100]}...\")"
   ]
  },
  {
   "cell_type": "code",
   "execution_count": 15,
   "id": "348c01d3",
   "metadata": {},
   "outputs": [
    {
     "data": {
      "text/plain": [
       "ObjectApiResponse({'acknowledged': True, 'shards_acknowledged': True, 'index': 'lotr_vectors'})"
      ]
     },
     "execution_count": 15,
     "metadata": {},
     "output_type": "execute_result"
    }
   ],
   "source": [
    "# Step 3: Vector search\n",
    "vector_index_name = \"lotr_vectors\"\n",
    "client.indices.create(\n",
    "    index=vector_index_name,\n",
    "    mappings={\n",
    "        \"properties\": {\n",
    "            \"vector\": {\"type\": \"dense_vector\", \"dims\": 1024},\n",
    "            \"text\": {\"type\": \"text\"}\n",
    "        }\n",
    "    }\n",
    ")"
   ]
  },
  {
   "cell_type": "code",
   "execution_count": null,
   "id": "a8e4c827",
   "metadata": {},
   "outputs": [],
   "source": [
    "batch_size = 20\n",
    "batches = [chapters[i:i + batch_size] for i in range(0, len(chapters), batch_size)]\n",
    "\n",
    "# Generate embeddings using Mistral AI\n",
    "api_key = os.getenv(\"MISTRAL_API_KEY\")\n",
    "model = \"mistral-embed\"\n",
    "\n",
    "mistral_client = Mistral(api_key=api_key)\n",
    "\n",
    "# Iterate over each batch and generate embeddings\n",
    "for batch_index, batch in enumerate(batches):\n",
    "    embeddings_batch_response = mistral_client.embeddings.create(\n",
    "        model=model,\n",
    "        inputs=batch,  # Send the current batch of chapters\n",
    "    )\n",
    "\n",
    "    # Extract and store embeddings for the current batch\n",
    "    for i, response in enumerate(embeddings_batch_response.data):\n",
    "        embedding_vector = response.embedding\n",
    "        chapter_index = batch_index * batch_size + i + 1  # Calculate the chapter number\n",
    "        chapter_content = batch[i]\n",
    "\n",
    "        # Index the chapter along with its embedding in Elasticsearch\n",
    "        doc = {\n",
    "            \"chapter_number\": chapter_index,\n",
    "            \"content\": chapter_content,\n",
    "            \"embedding\": embedding_vector\n",
    "        }\n",
    "        client.index(index=vector_index_name, id=chapter_index, document=doc)\n",
    "    \n",
    "    print(f\"Generated and indexed embeddings for batch with {len(batch)} chapters.\")\n"
   ]
  },
  {
   "cell_type": "code",
   "execution_count": 25,
   "id": "37723719",
   "metadata": {},
   "outputs": [
    {
     "name": "stdout",
     "output_type": "stream",
     "text": [
      "Chapter 225: \n",
      "                           _Chapter 2_\n",
      "            The Council of Elrond...\n",
      "Chapter 226:      Next day Frodo woke early, feeling refreshed and well. He walked along the terraces above the loud-flowing Bruinen and watched the pale, cool sun rise above the far mountains, and shine down. Slanting through the thin silver mist; the dew upon the yellow leaves was glimmering, and the woven nets of gossamer twinkled on every bush. Sam walked beside him, saying nothing. but sniffing the air, and looking every now and again with wonder in his eyes at the great heights in the East. The snow was white upon their peaks.\n",
      "     On a seat cut in the stone beside a turn in the path they came upon Gandalf and Bilbo deep in talk. `Hullo! Good morning!' said Bilbo. `Feel ready for the great council?'\n",
      "     `I feel ready for anything,' answered Frodo. `But most of all I should like to go walking today and explore the valley. I should like to get into those pine-woods up there.' He pointed away far up the side of Rivendell to the north.\n",
      "     'You may have a chance later,' said Gandalf. `But we cannot make any plans yet. There is much to hear and decide today.'\n",
      "     Suddenly as they were talking a single clear bell rang out. `That is the warning bell for the Council of Elrond,' cried Gandalf. `Come along now! Both you and Bilbo are wanted.'\n",
      "     Frodo and Bilbo followed the wizard quickly along the winding path back to the house; behind them, uninvited and for the moment forgotten, trotted Sam.\n",
      "     Gandalf led them to the porch where Frodo had found his friends the evening before. The light of the clear autumn morning was now glowing in the valley. The noise of bubbling waters came up from the foaming river-bed. Birds were singing, and a wholesome peace lay on the land. To Frodo his dangerous flight, and the rumours of the darkness growing in the world outside, already seemed only the memories of a troubled dream; but the faces that were turned to meet them as they entered were grave.\n",
      "     Elrond was there, and several others were seated in silence about him. Frodo saw Glorfindel and Glóin; and in a corner alone Strider was sitting, clad in his old travel-worn clothes again. Elrond drew Frodo to a seat by his side, and presented him to the company, saying:\n",
      "     'Here, my friends is the hobbit, Frodo son of Drogo. Few have ever come hither through greater peril or on an errand more urgent.'\n",
      "     He then pointed out and named those whom Frodo had not met before. There was a younger dwarf at Glóin's side: his son Gimli. Beside Glorfindel there were several other counsellors of Elrond's household, of whom Erestor was the chief; and with him was Galdor, an Elf from the Grey Havens who had come on an errand from Círdan the Shipwright. There was also a strange Elf clad in green and brown, Legolas, a messenger from his father, Thranduil, the King of the Elves of Northern Mirkwood. And seated a little apart was a tall man with a fair and noble face, dark-haired and grey-eyed, proud and stern of glance.\n",
      "     He was cloaked and booted as if for a journey on horseback; and indeed though his garments were rich, and his cloak was lined with fur, they were stained with long travel. He had a collar of silver in which a single white stone was set; his locks were shorn about his shoulders. On a baldric he wore a great horn tipped with silver that now was laid upon his knees. He gazed at Frodo and Bilbo with sudden wonder.\n",
      "     `Here,' said Elrond, turning to Gandalf, `is Boromir, a man from the South. He arrived in the grey morning, and seeks for counsel. I have bidden him to be present, for here his questions will be answered.'\n",
      "     Not all that was spoken and debated in the Council need now be told. Much was said of events in the world outside, especially in the South, and in the wide lands east of the Mountains. Of these things Frodo had already heard many rumours; but the tale of Glóin was new to him, and when the dwarf spoke he listened attentively. It appeared that amid the splendour of their works of hand the hearts of the Dwarves of the Lonely Mountain were troubled.\n",
      "     `It is now many years ago,' said Glóin, `that a shadow of disquiet fell upon our people. Whence it came we did not at first perceive. Words began to be whispered in secret: it was said that we were hemmed in a narrow place, and that greater wealth and splendour would be found in a wider world. Some spoke of Moria: the mighty works of our fathers that are called in our own tongue Khazad-dûm; and they declared that now at last we had the power and numbers to return.'\n",
      "     Glóin sighed. `Moria! Moria! Wonder of the Northern world! Too deep we delved there, and woke the nameless fear. Long have its vast mansions lain empty since the children of Durin fled. But now we spoke of it again with longing, and yet with dread; for no dwarf has dared to pass the doors of Khazad-dûm for many lives of kings, save Thrór only, and he perished. At last, however, Balin listened to the whispers, and resolved to go; and though Dáin did not give leave willingly, he took with him Ori and Óin and many of our folk, and they went away south.\n",
      "     \"That was nigh on thirty years ago. For a while we had news and it seemed good: messages reported that Moria had been entered and a great work begun there. Then there was silence, and no word has ever come from Moria since.\n",
      "     \"Then about a year ago a messenger came to Dáin, but not from Moria – from Mordor: a horseman in the night, who called Dáin to his gate. The Lord Sauron the Great, so he said, wished for our friendship. Rings he would give for it, such as he gave of old. And he asked urgently concerning _hobbits_, of what kind they were, and where they dwelt. \"For Sauron knows,\" said he, \"that one of these was known to you on a time.\"\n",
      "     'At this we were greatly troubled, and we gave no answer. And then his fell voice was lowered, and he would have sweetened it if he could. \"As a small token only of your friendship Sauron asks this,\" he said: \"that you should find this thief,\" such was his word, \"and get from him, willing or no, a little ring, the least of rings, that once he stole. It is but a trifle that Sauron fancies, and an earnest of your good will. Find it, and three rings that the Dwarf sires possessed of old shall be returned to you, and the realm of Moria shall be yours for ever. Find only news of the thief, whether he still lives and where, and you shall have great reward and lasting friendship from the Lord. Refuse, and things will not seem so well. Do you refuse?\"\n",
      "     'At that his breath came like the hiss of snakes, and all who stood by shuddered, but Dáin said: \"I say neither yea nor nay. I must consider this message and what it means under its fair cloak.\"\n",
      "     ' \"Consider well, but not too long,\" said he.\n",
      "     ' \"The time of my thought is my own to spend,\" answered Dáin.\n",
      "     ' \"For the present,\" said he, and rode into the darkness.\n",
      "     'Heavy have the hearts of our chieftains been since that night. We needed not the fell voice of the messenger to warn us that his words held both menace and deceit; for we knew already that the power that has re-entered Mordor has not changed, and ever it betrayed us of old. Twice the messenger has returned, and has gone unanswered. The third and last time, so he says, is soon to come, before the ending of the year.\n",
      "     'And so I have been sent at last by Dáin to warn Bilbo that he is sought by the Enemy, and to learn, if may be, why he desires this ring, this least of rings. Also we crave the advice of Elrond. For the Shadow grows and draws nearer. We discover that messengers have come also to King Brand in Dale, and that he is afraid. We fear that he may yield. Already war is gathering on his eastern borders. If we make no answer, the Enemy may move Men of his rule to assail King Brand, and Dáin also.'\n",
      "     `You have done well to come,' said Elrond. `You will hear today all that you need in order to understand the purposes of the Enemy. There is naught that you can do, other than to resist, with hope or without it. But you do not stand alone. You will learn that your trouble is but part of the trouble of all the western world. The Ring! What shall we do with the Ring, the least of rings, the trifle that Sauron fancies? That is the doom that we must deem.\n",
      "     `That is the purpose for which you are called hither. Called, I say. though I have not called you to me, strangers from distant lands. You have come and are here met, in this very nick of time, by chance as it may seem. Yet it is not so. Believe rather that it is so ordered that we, who sit here, and none others, must now find counsel for the peril of the world.\n",
      "     `Now, therefore, things shall be openly spoken that have been hidden from all but a few until this day. And first, so that all may understand what is the peril, the Tale of the Ring shall be told from the beginning even to this present. And I will begin that tale, though others shall end it.'\n",
      "     Then all listened while Elrond in his clear voice spoke of Sauron and the Rings of Power, and their forging in the Second Age of the world long ago. A part of his tale was known to some there, but the full tale to none, and many eyes were turned t= Elrond in fear and wonder as he told of the Elven-smiths of Eregion and their friendship with Moria, and their eagerness for knowledge, by which Sauron ensnared them. For in that time he was not yet evil to behold, and they received his aid and grew mighty in craft, whereas he learned all their secrets, and betrayed them, and forged secretly in the Mountain of Fire the One Ring to be their master. But Celebrimbor was aware of him, and hid the Three which he had made; and there was war, and the land was laid waste, and the gate of Moria was shut.\n",
      "     Then through all the years that followed he traced the Ring; but since that history is elsewhere recounted, even as Elrond himself set it down in his books of lore, it is not here recalled. For it is a long tale, full of deeds great and terrible, and briefly though Elrond spoke, the sun rode up the sky, and the morning was passing ere he ceased.\n",
      "     Of Númenor he spoke, its glory and its fall, and the return of the Kings of Men to Middle-earth out of the deeps of the Sea, borne upon the wings of storm. Then Elendil the Tall and his mighty sons, Isildur and Anárion, became great lords; and the North-realm they made in Arnor, and the South-realm in Gondor above the mouths of Anduin. But Sauron of Mordor assailed them, and they made the Last Alliance of Elves and Men, and the hosts of Gil-galad and Elendil were mustered in Arnor.\n",
      "     Thereupon Elrond paused a while and sighed. `I remember well the splendour of their banners,' he said. `It recalled to me the glory of the Elder Days and the hosts of Beleriand, so many great princes and captains were assembled. And yet not so many, nor so fair, as when Thangorodrim was broken, and the Elves deemed that evil was ended for ever, and it was not so.'\n",
      "     `You remember?' said Frodo, speaking his thought aloud in his astonishment. `But I thought,' he stammered as Elrond turned towards him, 'I thought that the fall of Gil-galad was a long age ago.'\n",
      "     'So it was indeed,' answered Elrond gravely. `But my memory reaches back even to the Elder Days. Eärendil was my sire, who was born in Gondolin before its fall; and my mother was Elwing, daughter of Dior, son of Lúthien of Doriath. I have seen three ages in the West of the world, and many defeats, and many fruitless victories.\n",
      "     `I was the herald of Gil-galad and marched with his host. I was at the Battle of Dagorlad before the Black Gate of Mordor, where we had the mastery: for the Spear of Gil-galad and the Sword of Elendil, Aiglos and Narsil, none could withstand. I beheld the last combat on the slopes of Orodruin, where Gil-galad died, and Elendil fell, and Narsil broke beneath him; but Sauron himself was overthrown, and Isildur cut the Ring from his hand with the hilt-shard of his father's sword, and took it for his own.'\n",
      "     At this the stranger, Boromir, broke in. `So that is what became of the Ring!' he cried. `If ever such a tale was told in the South, it has long been forgotten. I have heard of the Great Ring of him that we do not name; but we believed that it perished from the world in the ruin of his first realm. Isildur took it! That is tidings indeed.'\n",
      "     `Alas! yes,' said Elrond. `Isildur took it, as should not have been. It should have been cast then into Orodruin's fire nigh at hand where it was made. But few marked what Isildur did. He alone stood by his father in that last mortal contest; and by Gil-galad only Círdan stood, and I. But Isildur would not listen to our counsel.\n",
      "     ' \"This I will have as weregild for my father, and my brother,\" he said; and therefore whether we would or no, he took it to treasure it. But soon he was betrayed by it to his death; and so it is named in the North Isildur's Bane. Yet death maybe was better than what else might have befallen him.\n",
      "     'Only to the North did these tidings come, and only to a few. Small wonder it is that you have not heard them, Boromir. From the ruin of the Gladden Fields, where Isildur perished, three men only came ever back over the mountains after long wandering. One of these was Ohtar, the esquire of Isildur, who bore the shards of the sword of Elendil; and he brought them to Valandil, the heir of Isildur, who being but a child had remained here in Rivendell. But Narsil was broken and its light extinguished, and it has not yet been forged again.\n",
      "     `Fruitless did I call the victory of the Last Alliance? Not wholly so, yet it did not achieve its end. Sauron was diminished, but not destroyed. His Ring was lost but not unmade. The Dark Tower was broken, but its foundations were not removed; for they were made with the power of the Ring, and while it remains they will endure. Many Elves and many mighty Men, and many of their friends. had perished in the war. Anárion was slain, and Isildur was slain; and Gil-galad and Elendil were no more. Never again shall there be any such league of Elves and Men; for Men multiply and the Firstborn decrease, and the two kindreds are estranged. And ever since that day the race of Númenor has decayed, and the span of their years has lessened.\n",
      "     'In the North after the war and the slaughter of the Gladden Fields the Men of Westernesse were diminished, and their city of Annúminas beside Lake Evendim fell into ruin; and the heirs of Valandil removed and dwelt at Fornost on the high North Downs, and that now too is desolate. Men call it Deadmen's Dike, and they fear to tread there. For the folk of Arnor dwindled, and their foes devoured them, and their lordship passed, leaving only green mounds in the grassy hills.\n",
      "     'In the South the realm of Gondor long endured; and for a while its splendour grew, recalling somewhat of the might of Númenor, ere it fell. High towers that people built, and strong places. and havens of many ships; and the winged crown of the Kings of Men was held in awe by folk of many tongues. Their chief city was Osgiliath, Citadel of the Stars. through the midst of which the River flowed. And Minas Ithil they built, Tower of the Rising Moon, eastward upon a shoulder of the Mountains of Shadow; and westward at the feet of the White Mountains Minas Anor they made, Tower of the Setting Sun. There in the courts of the King grew a white tree, from the seed of that tree which Isildur brought over the deep waters, and the seed of that tree before came from Eressëa, and before that out of the Uttermost West in the Day before days when the world was young.\n",
      "     `But in the wearing of the swift years of Middle-earth the line of Meneldil son of Anárion failed, and the Tree withered, and the blood of the Númenoreans became mingled with that of lesser men. Then the watch upon the walls of Mordor slept, and dark things crept back to Gorgoroth. And on a time evil things came forth, and they took Minas Ithil and abode in it, and they made it into a place of dread; and it is called Minas Morgul, the Tower of Sorcery. Then Minas Anor was named anew Minas Tirith, the Tower of Guard; and these two cities were ever at war, but Osgiliath which lay between was deserted and in its ruins shadows walked.\n",
      "     'So it has been for many lives of men. But the Lords of Minas Tirith still fight on, defying our enemies, keeping the passage of the River from Argonath to the Sea. And now that part of the tale that I shall tell is drawn to its close. For in the days of Isildur the Ruling Ring passed out of all knowledge, and the Three were released from its dominion. But now in this latter day they are in peril once more, for to our sorrow the One has been found. Others shall speak of its finding, for in that I played small part.'\n",
      "     He ceased, but at once Boromir stood up, tall and proud, before them. Give me leave, Master Elrond, said he, first to say more of Gondor; for verily from the land of Gondor I am come. And it would be well for all to know what passes there. For few, I deem, know of our deeds, and therefore guess little of their peril, if we should fail at last.\n",
      "     `Believe not that in the land of Gondor the blood of Númenor is spent, nor all its pride and dignity forgotten. By our valour the wild folk of the East are still restrained, and the terror of Morgul kept at bay; and thus alone are peace and freedom maintained in the lands behind us, bulwark of the West. But if the passages of the River should be won, what then?\n",
      "     `Yet that hour, maybe, is not now far away. The Nameless Enemy has arisen again. Smoke rises once more from Orodruin that we call Mount Doom. The power of the Black Land grows and we are hard beset. When the Enemy returned our folk were driven from Ithilien, our fair domain east of the River, though we kept a foothold there and strength of arms. But this very year, in the days of June, sudden war came upon us out of Mordor, and we were swept away. We were outnumbered, for Mordor has allied itself with the Easterlings and the cruel Haradrim; but it was not by numbers that we were defeated. A power was there that we have not felt before.\n",
      "     `Some said that it could be seen, like a great black horseman, a dark shadow under the moon. Wherever he came a madness filled our foes, but fear fell on our boldest, so that horse and man gave way and fled. Only a remnant of our eastern force came back, destroying the last bridge that still stood amid the ruins of Osgiliath.\n",
      "     'I was in the company that held the bridge, until it was cast down behind us. Four only were saved by swimming: my brother and myself and two others. But still we fight on, holding all the west shores of Anduin; and those who shelter behind us give us praise, if ever they hear our name: much praise but little help. Only from Rohan now will any men ride to us when we call.\n",
      "     `In this evil hour I have come on an errand over many dangerous leagues to Elrond: a hundred and ten days I have journeyed all alone. But I do not seek allies in war. The might of Elrond is in wisdom not in weapons, it is said. I come to ask for counsel and the unravelling of hard words. For on the eve of the sudden assault a dream came to my brother in a troubled sleep; and afterwards a like dream came oft to him again, and once to me.\n",
      "     'In that dream I thought the eastern sky grew dark and there was a growing thunder, but in the West a pale light lingered, and out of it I heard a voice, remote but clear, crying:...\n",
      "Chapter 743:      They were silent for a while. At length Aragorn spoke. 'As I have begun, so I will go on. We come now to the very brink, where hope and despair are akin. To waver is to fall. Let none now reject the counsels of Gandalf, whose long labours against Sauron come at last to their test. But for him all would long ago have been lost. Nonetheless I do not yet claim to command any man. Let others choose as they will.'\n",
      "     Then said Elrohir: 'From the North we came with this purpose, and from Elrond our father we brought this very counsel. We will not turn back.'\n",
      "     'As for myself,' said Éomer, 'I have little knowledge of these deep matters; but I need it not. This I know, and it is enough, that as my friend Aragorn succoured me and my people, so I will aid him when he calls. I will go.'\n",
      "     'As for me,' said Imrahil, 'the Lord Aragorn I hold to be my liege-lord, whether he claim it or no. His wish is to me a command. I will go also. Yet for a while I stand in the place of the Steward of Gondor, and it is mine to think first of its people. To prudence some heed must still be given. For we must prepare against all chances, good as well as evil. Now, it may be that we shall triumph, and while there is any hope of this, Gondor must be protected. I would not have us return with victory to a City in ruins and a land ravaged behind us. And yet we learn from the Rohirrim that there is an army still unfought upon our northern flank.'\n",
      "     'That is true,' said Gandalf. 'I do not counsel you to leave the City all unmanned. Indeed the force that we lead east need not be great enough for any assault in earnest upon Mordor, so long as it be great enough to challenge battle. And it must move soon. Therefore I ask the Captains: what force could we muster and lead out in two days' time at the latest? And they must be hardy men that go willingly, knowing their peril.'\n",
      "     'All are weary, and very many have wounds light or grievous,' said Éomer, 'and we have suffered much loss of our horses, and that is ill to bear. If we must ride soon, then I cannot hope to lead even two thousands, and yet leave as many for the defence of the City.'\n",
      "     'We have not only to reckon with those who fought on this field ' said Aragorn. 'New strength is on the way from the southern fiefs, now that the coasts have been rid. Four thousands I sent marching from Pelargir through Lossarnach two days ago; and Angbor the fearless rides before them. If we set out in two days more, they will draw nigh ere we depart. Moreover many were bidden to follow me up the River in any craft they could gather; and with this wind they will soon be at hand, indeed several ships have already come to the Harlond. I judge that we could lead out seven thousands of horse and foot, and yet leave the City in better defence than it was when the assault began.'\n",
      "     'The Gate is destroyed,' said Imrahil, 'and where now is the skill to rebuild it and set it up anew?'\n",
      "     'In Erebor in the Kingdom of Dáin there is such skill,' said Aragorn; 'and if all our hopes do not perish, then in time I will send Gimli Glóin's son to ask for wrights of the Mountain. But men are better than gates, and no gate will endure against our Enemy if men desert it.'...\n",
      "Chapter 228:      Of these words we could understand little, and we spoke to our father, Denethor, Lord of Minas Tirith, wise in the lore of Gondor. This only would he say, that Imladris was of old the name among the Elves of a far northern dale, where Elrond the Halfelven dwelt, greatest of lore-masters. Therefore my brother, seeing how desperate was our need, was eager to heed the dream and seek for Imladris; but since the way was full of doubt and danger, I took the journey upon myself. Loth was my father to give me leave, and long have I wandered by roads forgotten, seeking the house of Elrond, of which many had heard, but few knew where it lay.'\n",
      "     'And here in the house of Elrond more shall be made clear to you' said Aragorn, standing up. He cast his sword upon the table that stood before Elrond, and the blade was in two pieces. `Here is the Sword that was Broken!' he said.\n",
      "     `And who are you, and what have you to do with Minas Tirith?' asked Boromir, looking in wonder at the lean face of the Ranger and his weather-stained cloak.\n",
      "     `He is Aragorn son of Arathorn,' said Elrond; `and he is descended through many fathers from Isildur Elendil's son of Minas Ithil. He is the Chief of the Dúnedain in the North, and few are now left of that folk.'\n",
      "     `Then it belongs to you, and not to me at all!' cried Frodo in amazement, springing to his feet, as if he expected the Ring to be demanded at once.\n",
      "     'It does not belong to either of us,' said Aragorn; `but it has been ordained that you should hold it for a while.'\n",
      "     'Bring out the Ring, Frodo!' said Gandalf solemnly. `The time has come. Hold it up, and then Boromir will understand the remainder of his riddle.'\n",
      "     There was a hush, and all turned their eyes on Frodo. He was shaken by a sudden shame and fear; and he felt a great reluctance to reveal the Ring, and a loathing of its touch. He wished he was far away. The Ring gleamed and flickered as he held it up before them in his trembling hand.\n",
      "     'Behold Isildur's Bane!' said Elrond.\n",
      "     Boromir's eyes glinted as he gazed at the golden thing. `The Halfling!' he muttered. `Is then the doom of Minas Tirith come at last? But why then should we seek a broken sword?'\n",
      "     'The words were not _the doom of Minas Tirith_,' said Aragorn. `But doom and great deeds are indeed at hand. For the Sword that was Broken is the Sword of Elendil that broke beneath him when he fell. It has been treasured by his heirs when all other heirlooms were lost; for it was spoken of old among us that it should be made again when the Ring, Isildur's Bane, was found. Now you have seen the sword that you have sought, what would you ask? Do you wish for the House of Elendil to return to the Land of Gondor?'\n",
      "     `I was not sent to beg any boon, but to seek only the meaning of a riddle,' answered Boromir proudly. `Yet we are hard pressed, and the Sword of Elendil would be a help beyond our hope-if such a thing could indeed return out of the shadows of the past.' He looked again at Aragorn, and doubt was in his eyes.\n",
      "     Frodo felt Bilbo stir impatiently at his side. Evidently he was annoyed on his friend's behalf. Standing suddenly up he burst out:...\n",
      "Chapter 738:      At length they came to the Prince Imrahil, and Legolas looked at him and bowed low; for he saw that here indeed was one who had elven-blood in his veins. 'Hail, lord!' he said. 'It is long since the people of Nimrodel left the woodlands of Lórien, and yet still one may see that not all sailed from Amroth's haven west over water.'\n",
      "     'So it is said in the lore of my land,' said the Prince; 'yet never has one of the fair folk been seen there for years beyond count. And I marvel to see one here now in the midst of sorrow and war. What do you seek?'\n",
      "     'I am one of the Nine Companions who set out with Mithrandir from Imladris, said Legolas and with this Dwarf, my friend, I came with the Lord Aragorn. But now we wish to see our friends. Meriadoc and Peregrin, who are in your keeping, we are told.'\n",
      "     'You will find them in the Houses of Healing, and I will lead you thither,' said Imrahil.\n",
      "     'It will be enough if you send one to guide us, lord,' said Legolas. 'For Aragorn sends this message to you. He does not wish to enter the City again at this time. Yet there is need for the captains to hold council at once, and he prays that you and Éomer of Rohan will come down to his tents, as soon as may be. Mithrandir is already there.'\n",
      "     'We will come,' said Imrahil; and they parted with courteous words.\n",
      "     'That is a fair lord and a great captain of men,' said Legolas. 'If Gondor has such men still in these days of fading, great must have been its glory in the days of its rising.'\n",
      "     'And doubtless the good stone-work is the older and was wrought in the first building,' said Gimli. 'It is ever so with the things that Men begin: there is a frost in Spring, or a blight in Summer, and they fail of their promise.'\n",
      "     'Yet seldom do they fail of their seed,' said Legolas. 'And that will lie in the dust and rot to spring up again in times and places unlooked-for. The deeds of Men will outlast us, Gimli.'\n",
      "     'And yet come to naught in the end but might-have-beens, I guess,' said the Dwarf.\n",
      "     'To that the Elves know not the answer,' said Legolas....\n"
     ]
    }
   ],
   "source": [
    "# Define a function to perform a vector search in Elasticsearch\n",
    "def vector_search(query_embedding, index_name=vector_index_name, size=5):\n",
    "    script_score_query = {\n",
    "        \"script_score\": {\n",
    "            \"query\": {\"match_all\": {}},\n",
    "            \"script\": {\n",
    "                \"source\": \"cosineSimilarity(params.query_vector, 'embedding') + 1.0\",\n",
    "                \"params\": {\"query_vector\": query_embedding}\n",
    "            }\n",
    "        }\n",
    "    }\n",
    "    response = client.search(\n",
    "        index=index_name,\n",
    "        query=script_score_query,\n",
    "        size=size\n",
    "    )\n",
    "    return response['hits']['hits']\n",
    "\n",
    "def get_query_embeddings(query):\n",
    "    embeddings_batch_response = mistral_client.embeddings.create(\n",
    "        model=\"mistral-embed\",\n",
    "        inputs=query,  # Send the current batch of chapters\n",
    "    )\n",
    "    return embeddings_batch_response.data[0].embedding\n",
    "\n",
    "sample_query_embedding = get_query_embeddings(\"Where was the council of Elrond held?\")  # Replace with actual query embedding\n",
    "results = vector_search(sample_query_embedding)\n",
    "for hit in results:\n",
    "    print(f\"Chapter {hit['_source']['chapter_number']}: {hit['_source']['content']}...\")"
   ]
  },
  {
   "cell_type": "code",
   "execution_count": null,
   "id": "c672860d",
   "metadata": {},
   "outputs": [],
   "source": [
    "# Step 4: Reranker"
   ]
  },
  {
   "cell_type": "markdown",
   "id": "49ce0ebf",
   "metadata": {},
   "source": [
    "see for example: https://github.com/elastic/elasticsearch-labs/blob/main/notebooks/search/12-semantic-reranking-elastic-rerank.ipynb"
   ]
  },
  {
   "cell_type": "code",
   "execution_count": null,
   "id": "05eb2c06",
   "metadata": {},
   "outputs": [],
   "source": []
  },
  {
   "cell_type": "code",
   "execution_count": null,
   "id": "ffce31d3",
   "metadata": {},
   "outputs": [],
   "source": [
    "# Step 5: LLM and final steps"
   ]
  },
  {
   "cell_type": "code",
   "execution_count": null,
   "id": "19a1e38f",
   "metadata": {},
   "outputs": [],
   "source": []
  }
 ],
 "metadata": {
  "kernelspec": {
   "display_name": "Python 3",
   "language": "python",
   "name": "python3"
  },
  "language_info": {
   "codemirror_mode": {
    "name": "ipython",
    "version": 3
   },
   "file_extension": ".py",
   "mimetype": "text/x-python",
   "name": "python",
   "nbconvert_exporter": "python",
   "pygments_lexer": "ipython3",
   "version": "3.13.3"
  }
 },
 "nbformat": 4,
 "nbformat_minor": 5
}
