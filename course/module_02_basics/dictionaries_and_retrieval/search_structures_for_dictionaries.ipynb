{
 "cells": [
  {
   "cell_type": "markdown",
   "id": "eadfda43",
   "metadata": {},
   "source": [
    "### Search trees"
   ]
  },
  {
   "cell_type": "markdown",
   "id": "b475152b",
   "metadata": {},
   "source": []
  },
  {
   "cell_type": "code",
   "execution_count": 1,
   "id": "61ca9dee",
   "metadata": {},
   "outputs": [],
   "source": [
    "from util.load_lotr import lotr_chapters\n",
    "\n",
    "chapters = lotr_chapters()"
   ]
  },
  {
   "cell_type": "code",
   "execution_count": null,
   "id": "600b9303",
   "metadata": {},
   "outputs": [],
   "source": []
  }
 ],
 "metadata": {
  "kernelspec": {
   "display_name": "Python 3",
   "language": "python",
   "name": "python3"
  },
  "language_info": {
   "codemirror_mode": {
    "name": "ipython",
    "version": 3
   },
   "file_extension": ".py",
   "mimetype": "text/x-python",
   "name": "python",
   "nbconvert_exporter": "python",
   "pygments_lexer": "ipython3",
   "version": "3.13.3"
  }
 },
 "nbformat": 4,
 "nbformat_minor": 5
}
