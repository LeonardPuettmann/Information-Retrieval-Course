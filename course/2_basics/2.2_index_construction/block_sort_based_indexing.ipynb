{
 "cells": [
  {
   "cell_type": "markdown",
   "id": "f9091014",
   "metadata": {},
   "source": [
    "Block-based indexing is a technique used to handle large datasets that cannot fit into memory all at once. The idea is to divide the data into smaller, manageable blocks, process each block individually, and then write the results to disk. This allows you to work with large datasets without running into memory limitations.\n",
    "\n",
    "Here's a simple breakdown:\n",
    "- Divide the Data: Split the data into smaller blocks that can fit into memory.\n",
    "- Process Each Block: Process each block individually (e.g., create an inverted index).\n",
    "- Write to Disk: Write the processed blocks to disk.\n",
    "- Merge: After processing all blocks, merge the results to create the final index."
   ]
  },
  {
   "cell_type": "code",
   "execution_count": 4,
   "id": "550f19f4",
   "metadata": {},
   "outputs": [
    {
     "name": "stdout",
     "output_type": "stream",
     "text": [
      "Merged index written to merged_index.txt\n"
     ]
    }
   ],
   "source": [
    "import os\n",
    "from util.load_lotr import lotr_chapters\n",
    "\n",
    "chapters = lotr_chapters() # this loads a list of strings\n",
    "\n",
    "# Function to parse the next block of documents\n",
    "def parse_next_block(documents, block_size):\n",
    "    block = documents[:block_size]\n",
    "    documents = documents[block_size:]\n",
    "    return block, documents\n",
    "\n",
    "# Function to invert a block (create an inverted index)\n",
    "def bsbi_invert(block):\n",
    "    inverted_index = {}\n",
    "    for doc in block:\n",
    "        for word in doc.split():\n",
    "            if word not in inverted_index:\n",
    "                inverted_index[word] = []\n",
    "            inverted_index[word].append(doc)\n",
    "    return inverted_index\n",
    "\n",
    "# Function to write a block to disk\n",
    "def write_block_to_disk(block, filename):\n",
    "    with open(filename, 'w') as file:\n",
    "        for doc in block:\n",
    "            file.write(doc + '\\n')\n",
    "\n",
    "# Function to merge blocks\n",
    "def merge_blocks(filenames, merged_filename):\n",
    "    merged_index = {}\n",
    "    for filename in filenames:\n",
    "        with open(filename, 'r') as file:\n",
    "            for line in file:\n",
    "                doc = line.strip()\n",
    "                for word in doc.split():\n",
    "                    if word not in merged_index:\n",
    "                        merged_index[word] = []\n",
    "                    merged_index[word].append(doc)\n",
    "    with open(merged_filename, 'w') as file:\n",
    "        for word, docs in merged_index.items():\n",
    "            file.write(f\"{word}: {', '.join(docs)}\\n\")\n",
    "\n",
    "# Main function to perform block-based indexing\n",
    "def bsbindex_construction(documents, block_size):\n",
    "    n = 0\n",
    "    filenames = []\n",
    "    os.makedirs(\"blocks\", exist_ok=True)  # Create the \"blocks\" folder if it doesn't exist\n",
    "    while documents:\n",
    "        n += 1\n",
    "        block, documents = parse_next_block(documents, block_size)\n",
    "        inverted_block = bsbi_invert(block)\n",
    "        filename = f\"blocks/block_{n}.txt\"\n",
    "        write_block_to_disk(block, filename)\n",
    "        filenames.append(filename)\n",
    "    merged_filename = \"merged_index.txt\"\n",
    "    merge_blocks(filenames, merged_filename)\n",
    "    print(f\"Merged index written to {merged_filename}\")\n",
    "\n",
    "# Example usage\n",
    "documents = chapters\n",
    "block_size = 20\n",
    "bsbindex_construction(documents, block_size)"
   ]
  }
 ],
 "metadata": {
  "kernelspec": {
   "display_name": "Python 3",
   "language": "python",
   "name": "python3"
  },
  "language_info": {
   "codemirror_mode": {
    "name": "ipython",
    "version": 3
   },
   "file_extension": ".py",
   "mimetype": "text/x-python",
   "name": "python",
   "nbconvert_exporter": "python",
   "pygments_lexer": "ipython3",
   "version": "3.13.3"
  }
 },
 "nbformat": 4,
 "nbformat_minor": 5
}
