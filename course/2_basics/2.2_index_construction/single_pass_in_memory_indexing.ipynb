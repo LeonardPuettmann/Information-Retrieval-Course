{
 "cells": [
  {
   "cell_type": "markdown",
   "id": "393ff0f9",
   "metadata": {},
   "source": []
  },
  {
   "cell_type": "code",
   "execution_count": null,
   "id": "2f97fb12",
   "metadata": {
    "vscode": {
     "languageId": "plaintext"
    }
   },
   "outputs": [],
   "source": [
    "from util.load_lotr import lotr_chapters\n",
    "\n",
    "def spimi_invert(token_stream):\n",
    "    output_file = open('output.txt', 'w')\n",
    "    dictionary = {}\n",
    "\n",
    "    while True:  # Assuming free memory is available\n",
    "        try:\n",
    "            token = next(token_stream)\n",
    "        except StopIteration:\n",
    "            break\n",
    "\n",
    "        term = token  # Assuming term is directly the token for simplicity\n",
    "\n",
    "        if term not in dictionary:\n",
    "            dictionary[term] = []\n",
    "            postings_list = dictionary[term]\n",
    "        else:\n",
    "            postings_list = dictionary[term]\n",
    "\n",
    "        if len(postings_list) >= 1:  # Assuming full means more than one posting\n",
    "            postings_list.append(postings_list[-1] * 2)  # Double the last posting for simplicity\n",
    "        postings_list.append(token)  # Assuming docID is the token itself for simplicity\n",
    "\n",
    "    sorted_terms = sorted(dictionary.keys())\n",
    "    for term in sorted_terms:\n",
    "        postings_list = dictionary[term]\n",
    "        output_file.write(f\"{term}: {postings_list}\\n\")\n",
    "\n",
    "    output_file.close()\n",
    "    return output_file\n",
    "\n",
    "# Load the chapters from the Lord of the Rings books\n",
    "chapters = lotr_chapters()  # This loads a list of strings\n",
    "\n",
    "# Assuming each chapter is a string and you want to tokenize it into words\n",
    "token_stream = (word for chapter in chapters for word in chapter.split())\n",
    "\n",
    "# Call the spimi_invert function with the token stream\n",
    "output_file = spimi_invert(token_stream)\n"
   ]
  }
 ],
 "metadata": {
  "language_info": {
   "name": "python"
  }
 },
 "nbformat": 4,
 "nbformat_minor": 5
}
